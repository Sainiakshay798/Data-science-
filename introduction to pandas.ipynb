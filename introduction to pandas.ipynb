{
 "cells": [
  {
   "cell_type": "code",
   "execution_count": 5,
   "id": "86087a17",
   "metadata": {},
   "outputs": [],
   "source": [
    "import pandas as pd"
   ]
  },
  {
   "cell_type": "code",
   "execution_count": 6,
   "id": "7489c2df",
   "metadata": {},
   "outputs": [],
   "source": [
    "# 2 main datatype\n",
    "series = pd.Series([\"BMW\", \"Toyota\", \"Honda\"])"
   ]
  },
  {
   "cell_type": "code",
   "execution_count": 7,
   "id": "d78dd25e",
   "metadata": {},
   "outputs": [
    {
     "data": {
      "text/plain": [
       "0       BMW\n",
       "1    Toyota\n",
       "2     Honda\n",
       "dtype: object"
      ]
     },
     "execution_count": 7,
     "metadata": {},
     "output_type": "execute_result"
    }
   ],
   "source": [
    "series"
   ]
  },
  {
   "cell_type": "markdown",
   "id": "0c735e21",
   "metadata": {},
   "source": [
    "# series = 1-dimensional \n"
   ]
  },
  {
   "cell_type": "code",
   "execution_count": 9,
   "id": "b5410a34",
   "metadata": {},
   "outputs": [
    {
     "data": {
      "text/plain": [
       "0      Red\n",
       "1     Blue\n",
       "2    White\n",
       "dtype: object"
      ]
     },
     "execution_count": 9,
     "metadata": {},
     "output_type": "execute_result"
    }
   ],
   "source": [
    "colours = pd.Series([\"Red\", \"Blue\", \"White\"])\n",
    "colours"
   ]
  },
  {
   "cell_type": "code",
   "execution_count": 10,
   "id": "6465ced0",
   "metadata": {},
   "outputs": [
    {
     "data": {
      "text/html": [
       "<div>\n",
       "<style scoped>\n",
       "    .dataframe tbody tr th:only-of-type {\n",
       "        vertical-align: middle;\n",
       "    }\n",
       "\n",
       "    .dataframe tbody tr th {\n",
       "        vertical-align: top;\n",
       "    }\n",
       "\n",
       "    .dataframe thead th {\n",
       "        text-align: right;\n",
       "    }\n",
       "</style>\n",
       "<table border=\"1\" class=\"dataframe\">\n",
       "  <thead>\n",
       "    <tr style=\"text-align: right;\">\n",
       "      <th></th>\n",
       "      <th>Car make</th>\n",
       "      <th>Colour</th>\n",
       "    </tr>\n",
       "  </thead>\n",
       "  <tbody>\n",
       "    <tr>\n",
       "      <th>0</th>\n",
       "      <td>BMW</td>\n",
       "      <td>Red</td>\n",
       "    </tr>\n",
       "    <tr>\n",
       "      <th>1</th>\n",
       "      <td>Toyota</td>\n",
       "      <td>Blue</td>\n",
       "    </tr>\n",
       "    <tr>\n",
       "      <th>2</th>\n",
       "      <td>Honda</td>\n",
       "      <td>White</td>\n",
       "    </tr>\n",
       "  </tbody>\n",
       "</table>\n",
       "</div>"
      ],
      "text/plain": [
       "  Car make Colour\n",
       "0      BMW    Red\n",
       "1   Toyota   Blue\n",
       "2    Honda  White"
      ]
     },
     "execution_count": 10,
     "metadata": {},
     "output_type": "execute_result"
    }
   ],
   "source": [
    "# dataFrame = 2-dimaensional\n",
    "car_data = pd.DataFrame({\"Car make\": series, \n",
    "                         \"Colour\": colours})\n",
    "car_data"
   ]
  },
  {
   "cell_type": "code",
   "execution_count": 11,
   "id": "d4796c7c",
   "metadata": {},
   "outputs": [],
   "source": [
    "# import data \n",
    "car_sales = pd.read_csv(\"car-sales.csv\")"
   ]
  },
  {
   "cell_type": "code",
   "execution_count": 12,
   "id": "3c6f4b46",
   "metadata": {},
   "outputs": [
    {
     "data": {
      "text/html": [
       "<div>\n",
       "<style scoped>\n",
       "    .dataframe tbody tr th:only-of-type {\n",
       "        vertical-align: middle;\n",
       "    }\n",
       "\n",
       "    .dataframe tbody tr th {\n",
       "        vertical-align: top;\n",
       "    }\n",
       "\n",
       "    .dataframe thead th {\n",
       "        text-align: right;\n",
       "    }\n",
       "</style>\n",
       "<table border=\"1\" class=\"dataframe\">\n",
       "  <thead>\n",
       "    <tr style=\"text-align: right;\">\n",
       "      <th></th>\n",
       "      <th>Make</th>\n",
       "      <th>Colour</th>\n",
       "      <th>Odometer (KM)</th>\n",
       "      <th>Doors</th>\n",
       "      <th>Price</th>\n",
       "    </tr>\n",
       "  </thead>\n",
       "  <tbody>\n",
       "    <tr>\n",
       "      <th>0</th>\n",
       "      <td>Toyota</td>\n",
       "      <td>White</td>\n",
       "      <td>150043</td>\n",
       "      <td>4</td>\n",
       "      <td>$4,000.00</td>\n",
       "    </tr>\n",
       "    <tr>\n",
       "      <th>1</th>\n",
       "      <td>Honda</td>\n",
       "      <td>Red</td>\n",
       "      <td>87899</td>\n",
       "      <td>4</td>\n",
       "      <td>$5,000.00</td>\n",
       "    </tr>\n",
       "    <tr>\n",
       "      <th>2</th>\n",
       "      <td>Toyota</td>\n",
       "      <td>Blue</td>\n",
       "      <td>32549</td>\n",
       "      <td>3</td>\n",
       "      <td>$7,000.00</td>\n",
       "    </tr>\n",
       "    <tr>\n",
       "      <th>3</th>\n",
       "      <td>BMW</td>\n",
       "      <td>Black</td>\n",
       "      <td>11179</td>\n",
       "      <td>5</td>\n",
       "      <td>$22,000.00</td>\n",
       "    </tr>\n",
       "    <tr>\n",
       "      <th>4</th>\n",
       "      <td>Nissan</td>\n",
       "      <td>White</td>\n",
       "      <td>213095</td>\n",
       "      <td>4</td>\n",
       "      <td>$3,500.00</td>\n",
       "    </tr>\n",
       "    <tr>\n",
       "      <th>5</th>\n",
       "      <td>Toyota</td>\n",
       "      <td>Green</td>\n",
       "      <td>99213</td>\n",
       "      <td>4</td>\n",
       "      <td>$4,500.00</td>\n",
       "    </tr>\n",
       "    <tr>\n",
       "      <th>6</th>\n",
       "      <td>Honda</td>\n",
       "      <td>Blue</td>\n",
       "      <td>45698</td>\n",
       "      <td>4</td>\n",
       "      <td>$7,500.00</td>\n",
       "    </tr>\n",
       "    <tr>\n",
       "      <th>7</th>\n",
       "      <td>Honda</td>\n",
       "      <td>Blue</td>\n",
       "      <td>54738</td>\n",
       "      <td>4</td>\n",
       "      <td>$7,000.00</td>\n",
       "    </tr>\n",
       "    <tr>\n",
       "      <th>8</th>\n",
       "      <td>Toyota</td>\n",
       "      <td>White</td>\n",
       "      <td>60000</td>\n",
       "      <td>4</td>\n",
       "      <td>$6,250.00</td>\n",
       "    </tr>\n",
       "    <tr>\n",
       "      <th>9</th>\n",
       "      <td>Nissan</td>\n",
       "      <td>White</td>\n",
       "      <td>31600</td>\n",
       "      <td>4</td>\n",
       "      <td>$9,700.00</td>\n",
       "    </tr>\n",
       "  </tbody>\n",
       "</table>\n",
       "</div>"
      ],
      "text/plain": [
       "     Make Colour  Odometer (KM)  Doors       Price\n",
       "0  Toyota  White         150043      4   $4,000.00\n",
       "1   Honda    Red          87899      4   $5,000.00\n",
       "2  Toyota   Blue          32549      3   $7,000.00\n",
       "3     BMW  Black          11179      5  $22,000.00\n",
       "4  Nissan  White         213095      4   $3,500.00\n",
       "5  Toyota  Green          99213      4   $4,500.00\n",
       "6   Honda   Blue          45698      4   $7,500.00\n",
       "7   Honda   Blue          54738      4   $7,000.00\n",
       "8  Toyota  White          60000      4   $6,250.00\n",
       "9  Nissan  White          31600      4   $9,700.00"
      ]
     },
     "execution_count": 12,
     "metadata": {},
     "output_type": "execute_result"
    }
   ],
   "source": [
    "car_sales"
   ]
  },
  {
   "cell_type": "code",
   "execution_count": 13,
   "id": "e07d0a66",
   "metadata": {},
   "outputs": [],
   "source": [
    "# Exporting a dataframe\n",
    "car_sales.to_csv(\"export-car-sales.csv\", index=False)"
   ]
  },
  {
   "cell_type": "code",
   "execution_count": 14,
   "id": "cd8e41c8",
   "metadata": {
    "scrolled": true
   },
   "outputs": [
    {
     "data": {
      "text/html": [
       "<div>\n",
       "<style scoped>\n",
       "    .dataframe tbody tr th:only-of-type {\n",
       "        vertical-align: middle;\n",
       "    }\n",
       "\n",
       "    .dataframe tbody tr th {\n",
       "        vertical-align: top;\n",
       "    }\n",
       "\n",
       "    .dataframe thead th {\n",
       "        text-align: right;\n",
       "    }\n",
       "</style>\n",
       "<table border=\"1\" class=\"dataframe\">\n",
       "  <thead>\n",
       "    <tr style=\"text-align: right;\">\n",
       "      <th></th>\n",
       "      <th>Make</th>\n",
       "      <th>Colour</th>\n",
       "      <th>Odometer (KM)</th>\n",
       "      <th>Doors</th>\n",
       "      <th>Price</th>\n",
       "    </tr>\n",
       "  </thead>\n",
       "  <tbody>\n",
       "    <tr>\n",
       "      <th>0</th>\n",
       "      <td>Toyota</td>\n",
       "      <td>White</td>\n",
       "      <td>150043</td>\n",
       "      <td>4</td>\n",
       "      <td>$4,000.00</td>\n",
       "    </tr>\n",
       "    <tr>\n",
       "      <th>1</th>\n",
       "      <td>Honda</td>\n",
       "      <td>Red</td>\n",
       "      <td>87899</td>\n",
       "      <td>4</td>\n",
       "      <td>$5,000.00</td>\n",
       "    </tr>\n",
       "    <tr>\n",
       "      <th>2</th>\n",
       "      <td>Toyota</td>\n",
       "      <td>Blue</td>\n",
       "      <td>32549</td>\n",
       "      <td>3</td>\n",
       "      <td>$7,000.00</td>\n",
       "    </tr>\n",
       "    <tr>\n",
       "      <th>3</th>\n",
       "      <td>BMW</td>\n",
       "      <td>Black</td>\n",
       "      <td>11179</td>\n",
       "      <td>5</td>\n",
       "      <td>$22,000.00</td>\n",
       "    </tr>\n",
       "    <tr>\n",
       "      <th>4</th>\n",
       "      <td>Nissan</td>\n",
       "      <td>White</td>\n",
       "      <td>213095</td>\n",
       "      <td>4</td>\n",
       "      <td>$3,500.00</td>\n",
       "    </tr>\n",
       "    <tr>\n",
       "      <th>5</th>\n",
       "      <td>Toyota</td>\n",
       "      <td>Green</td>\n",
       "      <td>99213</td>\n",
       "      <td>4</td>\n",
       "      <td>$4,500.00</td>\n",
       "    </tr>\n",
       "    <tr>\n",
       "      <th>6</th>\n",
       "      <td>Honda</td>\n",
       "      <td>Blue</td>\n",
       "      <td>45698</td>\n",
       "      <td>4</td>\n",
       "      <td>$7,500.00</td>\n",
       "    </tr>\n",
       "    <tr>\n",
       "      <th>7</th>\n",
       "      <td>Honda</td>\n",
       "      <td>Blue</td>\n",
       "      <td>54738</td>\n",
       "      <td>4</td>\n",
       "      <td>$7,000.00</td>\n",
       "    </tr>\n",
       "    <tr>\n",
       "      <th>8</th>\n",
       "      <td>Toyota</td>\n",
       "      <td>White</td>\n",
       "      <td>60000</td>\n",
       "      <td>4</td>\n",
       "      <td>$6,250.00</td>\n",
       "    </tr>\n",
       "    <tr>\n",
       "      <th>9</th>\n",
       "      <td>Nissan</td>\n",
       "      <td>White</td>\n",
       "      <td>31600</td>\n",
       "      <td>4</td>\n",
       "      <td>$9,700.00</td>\n",
       "    </tr>\n",
       "  </tbody>\n",
       "</table>\n",
       "</div>"
      ],
      "text/plain": [
       "     Make Colour  Odometer (KM)  Doors       Price\n",
       "0  Toyota  White         150043      4   $4,000.00\n",
       "1   Honda    Red          87899      4   $5,000.00\n",
       "2  Toyota   Blue          32549      3   $7,000.00\n",
       "3     BMW  Black          11179      5  $22,000.00\n",
       "4  Nissan  White         213095      4   $3,500.00\n",
       "5  Toyota  Green          99213      4   $4,500.00\n",
       "6   Honda   Blue          45698      4   $7,500.00\n",
       "7   Honda   Blue          54738      4   $7,000.00\n",
       "8  Toyota  White          60000      4   $6,250.00\n",
       "9  Nissan  White          31600      4   $9,700.00"
      ]
     },
     "execution_count": 14,
     "metadata": {},
     "output_type": "execute_result"
    }
   ],
   "source": [
    "export_car_sales = pd.read_csv(\"export-car-sales.csv\")\n",
    "export_car_sales"
   ]
  },
  {
   "cell_type": "markdown",
   "id": "3a37fb42",
   "metadata": {},
   "source": [
    "## Describe data "
   ]
  },
  {
   "cell_type": "code",
   "execution_count": 15,
   "id": "5a7c3e1d",
   "metadata": {},
   "outputs": [
    {
     "data": {
      "text/plain": [
       "Make             object\n",
       "Colour           object\n",
       "Odometer (KM)     int64\n",
       "Doors             int64\n",
       "Price            object\n",
       "dtype: object"
      ]
     },
     "execution_count": 15,
     "metadata": {},
     "output_type": "execute_result"
    }
   ],
   "source": [
    "# Attribute\n",
    "car_sales.dtypes\n",
    "# Function\n",
    "#car_sales.to_csv()"
   ]
  },
  {
   "cell_type": "code",
   "execution_count": 16,
   "id": "bdedad70",
   "metadata": {},
   "outputs": [
    {
     "data": {
      "text/plain": [
       "Index(['Make', 'Colour', 'Odometer (KM)', 'Doors', 'Price'], dtype='object')"
      ]
     },
     "execution_count": 16,
     "metadata": {},
     "output_type": "execute_result"
    }
   ],
   "source": [
    "car_sales.columns"
   ]
  },
  {
   "cell_type": "code",
   "execution_count": 17,
   "id": "87eafc77",
   "metadata": {},
   "outputs": [
    {
     "data": {
      "text/plain": [
       "Index(['Make', 'Colour', 'Odometer (KM)', 'Doors', 'Price'], dtype='object')"
      ]
     },
     "execution_count": 17,
     "metadata": {},
     "output_type": "execute_result"
    }
   ],
   "source": [
    "car_columns = car_sales.columns\n",
    "car_columns"
   ]
  },
  {
   "cell_type": "code",
   "execution_count": 18,
   "id": "fc64fc33",
   "metadata": {},
   "outputs": [
    {
     "data": {
      "text/plain": [
       "RangeIndex(start=0, stop=10, step=1)"
      ]
     },
     "execution_count": 18,
     "metadata": {},
     "output_type": "execute_result"
    }
   ],
   "source": [
    "car_sales.index"
   ]
  },
  {
   "cell_type": "code",
   "execution_count": 19,
   "id": "f0ebb0ac",
   "metadata": {},
   "outputs": [
    {
     "data": {
      "text/html": [
       "<div>\n",
       "<style scoped>\n",
       "    .dataframe tbody tr th:only-of-type {\n",
       "        vertical-align: middle;\n",
       "    }\n",
       "\n",
       "    .dataframe tbody tr th {\n",
       "        vertical-align: top;\n",
       "    }\n",
       "\n",
       "    .dataframe thead th {\n",
       "        text-align: right;\n",
       "    }\n",
       "</style>\n",
       "<table border=\"1\" class=\"dataframe\">\n",
       "  <thead>\n",
       "    <tr style=\"text-align: right;\">\n",
       "      <th></th>\n",
       "      <th>Odometer (KM)</th>\n",
       "      <th>Doors</th>\n",
       "    </tr>\n",
       "  </thead>\n",
       "  <tbody>\n",
       "    <tr>\n",
       "      <th>count</th>\n",
       "      <td>10.000000</td>\n",
       "      <td>10.000000</td>\n",
       "    </tr>\n",
       "    <tr>\n",
       "      <th>mean</th>\n",
       "      <td>78601.400000</td>\n",
       "      <td>4.000000</td>\n",
       "    </tr>\n",
       "    <tr>\n",
       "      <th>std</th>\n",
       "      <td>61983.471735</td>\n",
       "      <td>0.471405</td>\n",
       "    </tr>\n",
       "    <tr>\n",
       "      <th>min</th>\n",
       "      <td>11179.000000</td>\n",
       "      <td>3.000000</td>\n",
       "    </tr>\n",
       "    <tr>\n",
       "      <th>25%</th>\n",
       "      <td>35836.250000</td>\n",
       "      <td>4.000000</td>\n",
       "    </tr>\n",
       "    <tr>\n",
       "      <th>50%</th>\n",
       "      <td>57369.000000</td>\n",
       "      <td>4.000000</td>\n",
       "    </tr>\n",
       "    <tr>\n",
       "      <th>75%</th>\n",
       "      <td>96384.500000</td>\n",
       "      <td>4.000000</td>\n",
       "    </tr>\n",
       "    <tr>\n",
       "      <th>max</th>\n",
       "      <td>213095.000000</td>\n",
       "      <td>5.000000</td>\n",
       "    </tr>\n",
       "  </tbody>\n",
       "</table>\n",
       "</div>"
      ],
      "text/plain": [
       "       Odometer (KM)      Doors\n",
       "count      10.000000  10.000000\n",
       "mean    78601.400000   4.000000\n",
       "std     61983.471735   0.471405\n",
       "min     11179.000000   3.000000\n",
       "25%     35836.250000   4.000000\n",
       "50%     57369.000000   4.000000\n",
       "75%     96384.500000   4.000000\n",
       "max    213095.000000   5.000000"
      ]
     },
     "execution_count": 19,
     "metadata": {},
     "output_type": "execute_result"
    }
   ],
   "source": [
    "car_sales.describe()"
   ]
  },
  {
   "cell_type": "code",
   "execution_count": 20,
   "id": "f3409b5b",
   "metadata": {},
   "outputs": [
    {
     "name": "stdout",
     "output_type": "stream",
     "text": [
      "<class 'pandas.core.frame.DataFrame'>\n",
      "RangeIndex: 10 entries, 0 to 9\n",
      "Data columns (total 5 columns):\n",
      " #   Column         Non-Null Count  Dtype \n",
      "---  ------         --------------  ----- \n",
      " 0   Make           10 non-null     object\n",
      " 1   Colour         10 non-null     object\n",
      " 2   Odometer (KM)  10 non-null     int64 \n",
      " 3   Doors          10 non-null     int64 \n",
      " 4   Price          10 non-null     object\n",
      "dtypes: int64(2), object(3)\n",
      "memory usage: 528.0+ bytes\n"
     ]
    }
   ],
   "source": [
    "car_sales.info()"
   ]
  },
  {
   "cell_type": "code",
   "execution_count": 21,
   "id": "5deabea9",
   "metadata": {
    "scrolled": true
   },
   "outputs": [
    {
     "name": "stderr",
     "output_type": "stream",
     "text": [
      "C:\\Users\\Aksha\\AppData\\Local\\Temp/ipykernel_17904/4073448239.py:1: FutureWarning: Dropping of nuisance columns in DataFrame reductions (with 'numeric_only=None') is deprecated; in a future version this will raise TypeError.  Select only valid columns before calling the reduction.\n",
      "  car_sales.mean()\n"
     ]
    },
    {
     "data": {
      "text/plain": [
       "Odometer (KM)    78601.4\n",
       "Doors                4.0\n",
       "dtype: float64"
      ]
     },
     "execution_count": 21,
     "metadata": {},
     "output_type": "execute_result"
    }
   ],
   "source": [
    "car_sales.mean()"
   ]
  },
  {
   "cell_type": "code",
   "execution_count": 22,
   "id": "67d0290d",
   "metadata": {},
   "outputs": [
    {
     "data": {
      "text/plain": [
       "38583.333333333336"
      ]
     },
     "execution_count": 22,
     "metadata": {},
     "output_type": "execute_result"
    }
   ],
   "source": [
    "car_prices = pd.Series([3000,1500,111250])\n",
    "car_prices.mean()"
   ]
  },
  {
   "cell_type": "code",
   "execution_count": 23,
   "id": "87367678",
   "metadata": {},
   "outputs": [
    {
     "data": {
      "text/plain": [
       "Make             ToyotaHondaToyotaBMWNissanToyotaHondaHondaToyo...\n",
       "Colour               WhiteRedBlueBlackWhiteGreenBlueBlueWhiteWhite\n",
       "Odometer (KM)                                               786014\n",
       "Doors                                                           40\n",
       "Price            $4,000.00$5,000.00$7,000.00$22,000.00$3,500.00...\n",
       "dtype: object"
      ]
     },
     "execution_count": 23,
     "metadata": {},
     "output_type": "execute_result"
    }
   ],
   "source": [
    "car_sales.sum()"
   ]
  },
  {
   "cell_type": "code",
   "execution_count": 24,
   "id": "e2951872",
   "metadata": {},
   "outputs": [
    {
     "data": {
      "text/plain": [
       "40"
      ]
     },
     "execution_count": 24,
     "metadata": {},
     "output_type": "execute_result"
    }
   ],
   "source": [
    "car_sales[\"Doors\"].sum()"
   ]
  },
  {
   "cell_type": "code",
   "execution_count": 25,
   "id": "145755f2",
   "metadata": {},
   "outputs": [
    {
     "data": {
      "text/plain": [
       "10"
      ]
     },
     "execution_count": 25,
     "metadata": {},
     "output_type": "execute_result"
    }
   ],
   "source": [
    "len(car_sales)"
   ]
  },
  {
   "cell_type": "code",
   "execution_count": 26,
   "id": "9628c54a",
   "metadata": {},
   "outputs": [
    {
     "data": {
      "text/html": [
       "<div>\n",
       "<style scoped>\n",
       "    .dataframe tbody tr th:only-of-type {\n",
       "        vertical-align: middle;\n",
       "    }\n",
       "\n",
       "    .dataframe tbody tr th {\n",
       "        vertical-align: top;\n",
       "    }\n",
       "\n",
       "    .dataframe thead th {\n",
       "        text-align: right;\n",
       "    }\n",
       "</style>\n",
       "<table border=\"1\" class=\"dataframe\">\n",
       "  <thead>\n",
       "    <tr style=\"text-align: right;\">\n",
       "      <th></th>\n",
       "      <th>Make</th>\n",
       "      <th>Colour</th>\n",
       "      <th>Odometer (KM)</th>\n",
       "      <th>Doors</th>\n",
       "      <th>Price</th>\n",
       "    </tr>\n",
       "  </thead>\n",
       "  <tbody>\n",
       "    <tr>\n",
       "      <th>0</th>\n",
       "      <td>Toyota</td>\n",
       "      <td>White</td>\n",
       "      <td>150043</td>\n",
       "      <td>4</td>\n",
       "      <td>$4,000.00</td>\n",
       "    </tr>\n",
       "    <tr>\n",
       "      <th>1</th>\n",
       "      <td>Honda</td>\n",
       "      <td>Red</td>\n",
       "      <td>87899</td>\n",
       "      <td>4</td>\n",
       "      <td>$5,000.00</td>\n",
       "    </tr>\n",
       "    <tr>\n",
       "      <th>2</th>\n",
       "      <td>Toyota</td>\n",
       "      <td>Blue</td>\n",
       "      <td>32549</td>\n",
       "      <td>3</td>\n",
       "      <td>$7,000.00</td>\n",
       "    </tr>\n",
       "    <tr>\n",
       "      <th>3</th>\n",
       "      <td>BMW</td>\n",
       "      <td>Black</td>\n",
       "      <td>11179</td>\n",
       "      <td>5</td>\n",
       "      <td>$22,000.00</td>\n",
       "    </tr>\n",
       "    <tr>\n",
       "      <th>4</th>\n",
       "      <td>Nissan</td>\n",
       "      <td>White</td>\n",
       "      <td>213095</td>\n",
       "      <td>4</td>\n",
       "      <td>$3,500.00</td>\n",
       "    </tr>\n",
       "    <tr>\n",
       "      <th>5</th>\n",
       "      <td>Toyota</td>\n",
       "      <td>Green</td>\n",
       "      <td>99213</td>\n",
       "      <td>4</td>\n",
       "      <td>$4,500.00</td>\n",
       "    </tr>\n",
       "    <tr>\n",
       "      <th>6</th>\n",
       "      <td>Honda</td>\n",
       "      <td>Blue</td>\n",
       "      <td>45698</td>\n",
       "      <td>4</td>\n",
       "      <td>$7,500.00</td>\n",
       "    </tr>\n",
       "    <tr>\n",
       "      <th>7</th>\n",
       "      <td>Honda</td>\n",
       "      <td>Blue</td>\n",
       "      <td>54738</td>\n",
       "      <td>4</td>\n",
       "      <td>$7,000.00</td>\n",
       "    </tr>\n",
       "    <tr>\n",
       "      <th>8</th>\n",
       "      <td>Toyota</td>\n",
       "      <td>White</td>\n",
       "      <td>60000</td>\n",
       "      <td>4</td>\n",
       "      <td>$6,250.00</td>\n",
       "    </tr>\n",
       "    <tr>\n",
       "      <th>9</th>\n",
       "      <td>Nissan</td>\n",
       "      <td>White</td>\n",
       "      <td>31600</td>\n",
       "      <td>4</td>\n",
       "      <td>$9,700.00</td>\n",
       "    </tr>\n",
       "  </tbody>\n",
       "</table>\n",
       "</div>"
      ],
      "text/plain": [
       "     Make Colour  Odometer (KM)  Doors       Price\n",
       "0  Toyota  White         150043      4   $4,000.00\n",
       "1   Honda    Red          87899      4   $5,000.00\n",
       "2  Toyota   Blue          32549      3   $7,000.00\n",
       "3     BMW  Black          11179      5  $22,000.00\n",
       "4  Nissan  White         213095      4   $3,500.00\n",
       "5  Toyota  Green          99213      4   $4,500.00\n",
       "6   Honda   Blue          45698      4   $7,500.00\n",
       "7   Honda   Blue          54738      4   $7,000.00\n",
       "8  Toyota  White          60000      4   $6,250.00\n",
       "9  Nissan  White          31600      4   $9,700.00"
      ]
     },
     "execution_count": 26,
     "metadata": {},
     "output_type": "execute_result"
    }
   ],
   "source": [
    "car_sales"
   ]
  },
  {
   "cell_type": "markdown",
   "id": "5235dad3",
   "metadata": {},
   "source": [
    "## viewing and selecting data "
   ]
  },
  {
   "cell_type": "code",
   "execution_count": 27,
   "id": "e0b2e6ef",
   "metadata": {},
   "outputs": [
    {
     "data": {
      "text/html": [
       "<div>\n",
       "<style scoped>\n",
       "    .dataframe tbody tr th:only-of-type {\n",
       "        vertical-align: middle;\n",
       "    }\n",
       "\n",
       "    .dataframe tbody tr th {\n",
       "        vertical-align: top;\n",
       "    }\n",
       "\n",
       "    .dataframe thead th {\n",
       "        text-align: right;\n",
       "    }\n",
       "</style>\n",
       "<table border=\"1\" class=\"dataframe\">\n",
       "  <thead>\n",
       "    <tr style=\"text-align: right;\">\n",
       "      <th></th>\n",
       "      <th>Make</th>\n",
       "      <th>Colour</th>\n",
       "      <th>Odometer (KM)</th>\n",
       "      <th>Doors</th>\n",
       "      <th>Price</th>\n",
       "    </tr>\n",
       "  </thead>\n",
       "  <tbody>\n",
       "    <tr>\n",
       "      <th>0</th>\n",
       "      <td>Toyota</td>\n",
       "      <td>White</td>\n",
       "      <td>150043</td>\n",
       "      <td>4</td>\n",
       "      <td>$4,000.00</td>\n",
       "    </tr>\n",
       "    <tr>\n",
       "      <th>1</th>\n",
       "      <td>Honda</td>\n",
       "      <td>Red</td>\n",
       "      <td>87899</td>\n",
       "      <td>4</td>\n",
       "      <td>$5,000.00</td>\n",
       "    </tr>\n",
       "    <tr>\n",
       "      <th>2</th>\n",
       "      <td>Toyota</td>\n",
       "      <td>Blue</td>\n",
       "      <td>32549</td>\n",
       "      <td>3</td>\n",
       "      <td>$7,000.00</td>\n",
       "    </tr>\n",
       "    <tr>\n",
       "      <th>3</th>\n",
       "      <td>BMW</td>\n",
       "      <td>Black</td>\n",
       "      <td>11179</td>\n",
       "      <td>5</td>\n",
       "      <td>$22,000.00</td>\n",
       "    </tr>\n",
       "    <tr>\n",
       "      <th>4</th>\n",
       "      <td>Nissan</td>\n",
       "      <td>White</td>\n",
       "      <td>213095</td>\n",
       "      <td>4</td>\n",
       "      <td>$3,500.00</td>\n",
       "    </tr>\n",
       "  </tbody>\n",
       "</table>\n",
       "</div>"
      ],
      "text/plain": [
       "     Make Colour  Odometer (KM)  Doors       Price\n",
       "0  Toyota  White         150043      4   $4,000.00\n",
       "1   Honda    Red          87899      4   $5,000.00\n",
       "2  Toyota   Blue          32549      3   $7,000.00\n",
       "3     BMW  Black          11179      5  $22,000.00\n",
       "4  Nissan  White         213095      4   $3,500.00"
      ]
     },
     "execution_count": 27,
     "metadata": {},
     "output_type": "execute_result"
    }
   ],
   "source": [
    "car_sales.head()"
   ]
  },
  {
   "cell_type": "code",
   "execution_count": 29,
   "id": "7e5e293d",
   "metadata": {},
   "outputs": [
    {
     "data": {
      "text/plain": [
       "0    White\n",
       "1      Red\n",
       "2     Blue\n",
       "3    Black\n",
       "4    White\n",
       "5    Green\n",
       "6     Blue\n",
       "7     Blue\n",
       "8    White\n",
       "9    White\n",
       "Name: Colour, dtype: object"
      ]
     },
     "execution_count": 29,
     "metadata": {},
     "output_type": "execute_result"
    }
   ],
   "source": [
    "car_sales.Colour"
   ]
  },
  {
   "cell_type": "code",
   "execution_count": 30,
   "id": "425306f7",
   "metadata": {},
   "outputs": [
    {
     "data": {
      "text/plain": [
       "False"
      ]
     },
     "execution_count": 30,
     "metadata": {},
     "output_type": "execute_result"
    }
   ],
   "source": [
    "car_columns.empty\n"
   ]
  },
  {
   "cell_type": "code",
   "execution_count": 31,
   "id": "980eb267",
   "metadata": {},
   "outputs": [
    {
     "data": {
      "text/html": [
       "<div>\n",
       "<style scoped>\n",
       "    .dataframe tbody tr th:only-of-type {\n",
       "        vertical-align: middle;\n",
       "    }\n",
       "\n",
       "    .dataframe tbody tr th {\n",
       "        vertical-align: top;\n",
       "    }\n",
       "\n",
       "    .dataframe thead th {\n",
       "        text-align: right;\n",
       "    }\n",
       "</style>\n",
       "<table border=\"1\" class=\"dataframe\">\n",
       "  <thead>\n",
       "    <tr style=\"text-align: right;\">\n",
       "      <th></th>\n",
       "      <th>Make</th>\n",
       "      <th>Colour</th>\n",
       "      <th>Odometer (KM)</th>\n",
       "      <th>Doors</th>\n",
       "      <th>Price</th>\n",
       "    </tr>\n",
       "  </thead>\n",
       "  <tbody>\n",
       "    <tr>\n",
       "      <th>0</th>\n",
       "      <td>Toyota</td>\n",
       "      <td>White</td>\n",
       "      <td>150043</td>\n",
       "      <td>4</td>\n",
       "      <td>$4,000.00</td>\n",
       "    </tr>\n",
       "    <tr>\n",
       "      <th>1</th>\n",
       "      <td>Honda</td>\n",
       "      <td>Red</td>\n",
       "      <td>87899</td>\n",
       "      <td>4</td>\n",
       "      <td>$5,000.00</td>\n",
       "    </tr>\n",
       "    <tr>\n",
       "      <th>2</th>\n",
       "      <td>Toyota</td>\n",
       "      <td>Blue</td>\n",
       "      <td>32549</td>\n",
       "      <td>3</td>\n",
       "      <td>$7,000.00</td>\n",
       "    </tr>\n",
       "    <tr>\n",
       "      <th>3</th>\n",
       "      <td>BMW</td>\n",
       "      <td>Black</td>\n",
       "      <td>11179</td>\n",
       "      <td>5</td>\n",
       "      <td>$22,000.00</td>\n",
       "    </tr>\n",
       "    <tr>\n",
       "      <th>4</th>\n",
       "      <td>Nissan</td>\n",
       "      <td>White</td>\n",
       "      <td>213095</td>\n",
       "      <td>4</td>\n",
       "      <td>$3,500.00</td>\n",
       "    </tr>\n",
       "    <tr>\n",
       "      <th>5</th>\n",
       "      <td>Toyota</td>\n",
       "      <td>Green</td>\n",
       "      <td>99213</td>\n",
       "      <td>4</td>\n",
       "      <td>$4,500.00</td>\n",
       "    </tr>\n",
       "    <tr>\n",
       "      <th>6</th>\n",
       "      <td>Honda</td>\n",
       "      <td>Blue</td>\n",
       "      <td>45698</td>\n",
       "      <td>4</td>\n",
       "      <td>$7,500.00</td>\n",
       "    </tr>\n",
       "    <tr>\n",
       "      <th>7</th>\n",
       "      <td>Honda</td>\n",
       "      <td>Blue</td>\n",
       "      <td>54738</td>\n",
       "      <td>4</td>\n",
       "      <td>$7,000.00</td>\n",
       "    </tr>\n",
       "    <tr>\n",
       "      <th>8</th>\n",
       "      <td>Toyota</td>\n",
       "      <td>White</td>\n",
       "      <td>60000</td>\n",
       "      <td>4</td>\n",
       "      <td>$6,250.00</td>\n",
       "    </tr>\n",
       "    <tr>\n",
       "      <th>9</th>\n",
       "      <td>Nissan</td>\n",
       "      <td>White</td>\n",
       "      <td>31600</td>\n",
       "      <td>4</td>\n",
       "      <td>$9,700.00</td>\n",
       "    </tr>\n",
       "  </tbody>\n",
       "</table>\n",
       "</div>"
      ],
      "text/plain": [
       "     Make Colour  Odometer (KM)  Doors       Price\n",
       "0  Toyota  White         150043      4   $4,000.00\n",
       "1   Honda    Red          87899      4   $5,000.00\n",
       "2  Toyota   Blue          32549      3   $7,000.00\n",
       "3     BMW  Black          11179      5  $22,000.00\n",
       "4  Nissan  White         213095      4   $3,500.00\n",
       "5  Toyota  Green          99213      4   $4,500.00\n",
       "6   Honda   Blue          45698      4   $7,500.00\n",
       "7   Honda   Blue          54738      4   $7,000.00\n",
       "8  Toyota  White          60000      4   $6,250.00\n",
       "9  Nissan  White          31600      4   $9,700.00"
      ]
     },
     "execution_count": 31,
     "metadata": {},
     "output_type": "execute_result"
    }
   ],
   "source": [
    "car_sales"
   ]
  },
  {
   "cell_type": "code",
   "execution_count": 32,
   "id": "7292f340",
   "metadata": {},
   "outputs": [
    {
     "data": {
      "text/html": [
       "<div>\n",
       "<style scoped>\n",
       "    .dataframe tbody tr th:only-of-type {\n",
       "        vertical-align: middle;\n",
       "    }\n",
       "\n",
       "    .dataframe tbody tr th {\n",
       "        vertical-align: top;\n",
       "    }\n",
       "\n",
       "    .dataframe thead th {\n",
       "        text-align: right;\n",
       "    }\n",
       "</style>\n",
       "<table border=\"1\" class=\"dataframe\">\n",
       "  <thead>\n",
       "    <tr style=\"text-align: right;\">\n",
       "      <th></th>\n",
       "      <th>Make</th>\n",
       "      <th>Colour</th>\n",
       "      <th>Odometer (KM)</th>\n",
       "      <th>Doors</th>\n",
       "      <th>Price</th>\n",
       "    </tr>\n",
       "  </thead>\n",
       "  <tbody>\n",
       "    <tr>\n",
       "      <th>0</th>\n",
       "      <td>Toyota</td>\n",
       "      <td>White</td>\n",
       "      <td>150043</td>\n",
       "      <td>4</td>\n",
       "      <td>$4,000.00</td>\n",
       "    </tr>\n",
       "    <tr>\n",
       "      <th>1</th>\n",
       "      <td>Honda</td>\n",
       "      <td>Red</td>\n",
       "      <td>87899</td>\n",
       "      <td>4</td>\n",
       "      <td>$5,000.00</td>\n",
       "    </tr>\n",
       "    <tr>\n",
       "      <th>2</th>\n",
       "      <td>Toyota</td>\n",
       "      <td>Blue</td>\n",
       "      <td>32549</td>\n",
       "      <td>3</td>\n",
       "      <td>$7,000.00</td>\n",
       "    </tr>\n",
       "    <tr>\n",
       "      <th>3</th>\n",
       "      <td>BMW</td>\n",
       "      <td>Black</td>\n",
       "      <td>11179</td>\n",
       "      <td>5</td>\n",
       "      <td>$22,000.00</td>\n",
       "    </tr>\n",
       "    <tr>\n",
       "      <th>4</th>\n",
       "      <td>Nissan</td>\n",
       "      <td>White</td>\n",
       "      <td>213095</td>\n",
       "      <td>4</td>\n",
       "      <td>$3,500.00</td>\n",
       "    </tr>\n",
       "    <tr>\n",
       "      <th>5</th>\n",
       "      <td>Toyota</td>\n",
       "      <td>Green</td>\n",
       "      <td>99213</td>\n",
       "      <td>4</td>\n",
       "      <td>$4,500.00</td>\n",
       "    </tr>\n",
       "    <tr>\n",
       "      <th>6</th>\n",
       "      <td>Honda</td>\n",
       "      <td>Blue</td>\n",
       "      <td>45698</td>\n",
       "      <td>4</td>\n",
       "      <td>$7,500.00</td>\n",
       "    </tr>\n",
       "  </tbody>\n",
       "</table>\n",
       "</div>"
      ],
      "text/plain": [
       "     Make Colour  Odometer (KM)  Doors       Price\n",
       "0  Toyota  White         150043      4   $4,000.00\n",
       "1   Honda    Red          87899      4   $5,000.00\n",
       "2  Toyota   Blue          32549      3   $7,000.00\n",
       "3     BMW  Black          11179      5  $22,000.00\n",
       "4  Nissan  White         213095      4   $3,500.00\n",
       "5  Toyota  Green          99213      4   $4,500.00\n",
       "6   Honda   Blue          45698      4   $7,500.00"
      ]
     },
     "execution_count": 32,
     "metadata": {},
     "output_type": "execute_result"
    }
   ],
   "source": [
    "car_sales.head(7)"
   ]
  },
  {
   "cell_type": "code",
   "execution_count": 34,
   "id": "1ffb9bda",
   "metadata": {},
   "outputs": [
    {
     "data": {
      "text/html": [
       "<div>\n",
       "<style scoped>\n",
       "    .dataframe tbody tr th:only-of-type {\n",
       "        vertical-align: middle;\n",
       "    }\n",
       "\n",
       "    .dataframe tbody tr th {\n",
       "        vertical-align: top;\n",
       "    }\n",
       "\n",
       "    .dataframe thead th {\n",
       "        text-align: right;\n",
       "    }\n",
       "</style>\n",
       "<table border=\"1\" class=\"dataframe\">\n",
       "  <thead>\n",
       "    <tr style=\"text-align: right;\">\n",
       "      <th></th>\n",
       "      <th>Make</th>\n",
       "      <th>Colour</th>\n",
       "      <th>Odometer (KM)</th>\n",
       "      <th>Doors</th>\n",
       "      <th>Price</th>\n",
       "    </tr>\n",
       "  </thead>\n",
       "  <tbody>\n",
       "    <tr>\n",
       "      <th>7</th>\n",
       "      <td>Honda</td>\n",
       "      <td>Blue</td>\n",
       "      <td>54738</td>\n",
       "      <td>4</td>\n",
       "      <td>$7,000.00</td>\n",
       "    </tr>\n",
       "    <tr>\n",
       "      <th>8</th>\n",
       "      <td>Toyota</td>\n",
       "      <td>White</td>\n",
       "      <td>60000</td>\n",
       "      <td>4</td>\n",
       "      <td>$6,250.00</td>\n",
       "    </tr>\n",
       "    <tr>\n",
       "      <th>9</th>\n",
       "      <td>Nissan</td>\n",
       "      <td>White</td>\n",
       "      <td>31600</td>\n",
       "      <td>4</td>\n",
       "      <td>$9,700.00</td>\n",
       "    </tr>\n",
       "  </tbody>\n",
       "</table>\n",
       "</div>"
      ],
      "text/plain": [
       "     Make Colour  Odometer (KM)  Doors      Price\n",
       "7   Honda   Blue          54738      4  $7,000.00\n",
       "8  Toyota  White          60000      4  $6,250.00\n",
       "9  Nissan  White          31600      4  $9,700.00"
      ]
     },
     "execution_count": 34,
     "metadata": {},
     "output_type": "execute_result"
    }
   ],
   "source": [
    "car_sales.tail(3)"
   ]
  },
  {
   "cell_type": "code",
   "execution_count": 40,
   "id": "b1a96610",
   "metadata": {},
   "outputs": [],
   "source": [
    "# .iloc & .iloc\n",
    "animals = pd.Series([\"cat\",\"dog\",\"bird\",\"pandas\",\"snake\"],\n",
    "                   index=[0, 3, 9, 8, 3])"
   ]
  },
  {
   "cell_type": "code",
   "execution_count": 41,
   "id": "1d880856",
   "metadata": {},
   "outputs": [
    {
     "data": {
      "text/plain": [
       "0       cat\n",
       "3       dog\n",
       "9      bird\n",
       "8    pandas\n",
       "3     snake\n",
       "dtype: object"
      ]
     },
     "execution_count": 41,
     "metadata": {},
     "output_type": "execute_result"
    }
   ],
   "source": [
    "animals"
   ]
  },
  {
   "cell_type": "code",
   "execution_count": 44,
   "id": "608c4091",
   "metadata": {},
   "outputs": [
    {
     "data": {
      "text/plain": [
       "3      dog\n",
       "3    snake\n",
       "dtype: object"
      ]
     },
     "execution_count": 44,
     "metadata": {},
     "output_type": "execute_result"
    }
   ],
   "source": [
    "animals.loc[3]"
   ]
  },
  {
   "cell_type": "code",
   "execution_count": 45,
   "id": "de7ee178",
   "metadata": {},
   "outputs": [
    {
     "data": {
      "text/plain": [
       "'bird'"
      ]
     },
     "execution_count": 45,
     "metadata": {},
     "output_type": "execute_result"
    }
   ],
   "source": [
    "animals.loc[9]"
   ]
  },
  {
   "cell_type": "code",
   "execution_count": 47,
   "id": "6c9edc1e",
   "metadata": {},
   "outputs": [
    {
     "data": {
      "text/plain": [
       "Make                    BMW\n",
       "Colour                Black\n",
       "Odometer (KM)         11179\n",
       "Doors                     5\n",
       "Price            $22,000.00\n",
       "Name: 3, dtype: object"
      ]
     },
     "execution_count": 47,
     "metadata": {},
     "output_type": "execute_result"
    }
   ],
   "source": [
    "# loc refers to index\n",
    "car_sales.loc[3]"
   ]
  },
  {
   "cell_type": "code",
   "execution_count": 50,
   "id": "b7021668",
   "metadata": {},
   "outputs": [
    {
     "data": {
      "text/plain": [
       "0       cat\n",
       "3       dog\n",
       "9      bird\n",
       "8    pandas\n",
       "3     snake\n",
       "dtype: object"
      ]
     },
     "execution_count": 50,
     "metadata": {},
     "output_type": "execute_result"
    }
   ],
   "source": [
    "animals"
   ]
  },
  {
   "cell_type": "code",
   "execution_count": 49,
   "id": "80eb830d",
   "metadata": {},
   "outputs": [
    {
     "data": {
      "text/plain": [
       "'pandas'"
      ]
     },
     "execution_count": 49,
     "metadata": {},
     "output_type": "execute_result"
    }
   ],
   "source": [
    "# .iloc refers to position\n",
    "animals.iloc[3]"
   ]
  },
  {
   "cell_type": "code",
   "execution_count": 53,
   "id": "81ecc2e0",
   "metadata": {},
   "outputs": [
    {
     "data": {
      "text/plain": [
       "Make                    BMW\n",
       "Colour                Black\n",
       "Odometer (KM)         11179\n",
       "Doors                     5\n",
       "Price            $22,000.00\n",
       "Name: 3, dtype: object"
      ]
     },
     "execution_count": 53,
     "metadata": {},
     "output_type": "execute_result"
    }
   ],
   "source": [
    "# loc refers to index\n",
    "car_sales.loc[3]"
   ]
  },
  {
   "cell_type": "code",
   "execution_count": 54,
   "id": "788a7ea0",
   "metadata": {},
   "outputs": [
    {
     "data": {
      "text/html": [
       "<div>\n",
       "<style scoped>\n",
       "    .dataframe tbody tr th:only-of-type {\n",
       "        vertical-align: middle;\n",
       "    }\n",
       "\n",
       "    .dataframe tbody tr th {\n",
       "        vertical-align: top;\n",
       "    }\n",
       "\n",
       "    .dataframe thead th {\n",
       "        text-align: right;\n",
       "    }\n",
       "</style>\n",
       "<table border=\"1\" class=\"dataframe\">\n",
       "  <thead>\n",
       "    <tr style=\"text-align: right;\">\n",
       "      <th></th>\n",
       "      <th>Make</th>\n",
       "      <th>Colour</th>\n",
       "      <th>Odometer (KM)</th>\n",
       "      <th>Doors</th>\n",
       "      <th>Price</th>\n",
       "    </tr>\n",
       "  </thead>\n",
       "  <tbody>\n",
       "    <tr>\n",
       "      <th>0</th>\n",
       "      <td>Toyota</td>\n",
       "      <td>White</td>\n",
       "      <td>150043</td>\n",
       "      <td>4</td>\n",
       "      <td>$4,000.00</td>\n",
       "    </tr>\n",
       "    <tr>\n",
       "      <th>1</th>\n",
       "      <td>Honda</td>\n",
       "      <td>Red</td>\n",
       "      <td>87899</td>\n",
       "      <td>4</td>\n",
       "      <td>$5,000.00</td>\n",
       "    </tr>\n",
       "    <tr>\n",
       "      <th>2</th>\n",
       "      <td>Toyota</td>\n",
       "      <td>Blue</td>\n",
       "      <td>32549</td>\n",
       "      <td>3</td>\n",
       "      <td>$7,000.00</td>\n",
       "    </tr>\n",
       "    <tr>\n",
       "      <th>3</th>\n",
       "      <td>BMW</td>\n",
       "      <td>Black</td>\n",
       "      <td>11179</td>\n",
       "      <td>5</td>\n",
       "      <td>$22,000.00</td>\n",
       "    </tr>\n",
       "    <tr>\n",
       "      <th>4</th>\n",
       "      <td>Nissan</td>\n",
       "      <td>White</td>\n",
       "      <td>213095</td>\n",
       "      <td>4</td>\n",
       "      <td>$3,500.00</td>\n",
       "    </tr>\n",
       "    <tr>\n",
       "      <th>5</th>\n",
       "      <td>Toyota</td>\n",
       "      <td>Green</td>\n",
       "      <td>99213</td>\n",
       "      <td>4</td>\n",
       "      <td>$4,500.00</td>\n",
       "    </tr>\n",
       "    <tr>\n",
       "      <th>6</th>\n",
       "      <td>Honda</td>\n",
       "      <td>Blue</td>\n",
       "      <td>45698</td>\n",
       "      <td>4</td>\n",
       "      <td>$7,500.00</td>\n",
       "    </tr>\n",
       "    <tr>\n",
       "      <th>7</th>\n",
       "      <td>Honda</td>\n",
       "      <td>Blue</td>\n",
       "      <td>54738</td>\n",
       "      <td>4</td>\n",
       "      <td>$7,000.00</td>\n",
       "    </tr>\n",
       "    <tr>\n",
       "      <th>8</th>\n",
       "      <td>Toyota</td>\n",
       "      <td>White</td>\n",
       "      <td>60000</td>\n",
       "      <td>4</td>\n",
       "      <td>$6,250.00</td>\n",
       "    </tr>\n",
       "    <tr>\n",
       "      <th>9</th>\n",
       "      <td>Nissan</td>\n",
       "      <td>White</td>\n",
       "      <td>31600</td>\n",
       "      <td>4</td>\n",
       "      <td>$9,700.00</td>\n",
       "    </tr>\n",
       "  </tbody>\n",
       "</table>\n",
       "</div>"
      ],
      "text/plain": [
       "     Make Colour  Odometer (KM)  Doors       Price\n",
       "0  Toyota  White         150043      4   $4,000.00\n",
       "1   Honda    Red          87899      4   $5,000.00\n",
       "2  Toyota   Blue          32549      3   $7,000.00\n",
       "3     BMW  Black          11179      5  $22,000.00\n",
       "4  Nissan  White         213095      4   $3,500.00\n",
       "5  Toyota  Green          99213      4   $4,500.00\n",
       "6   Honda   Blue          45698      4   $7,500.00\n",
       "7   Honda   Blue          54738      4   $7,000.00\n",
       "8  Toyota  White          60000      4   $6,250.00\n",
       "9  Nissan  White          31600      4   $9,700.00"
      ]
     },
     "execution_count": 54,
     "metadata": {},
     "output_type": "execute_result"
    }
   ],
   "source": [
    "car_sales"
   ]
  },
  {
   "cell_type": "code",
   "execution_count": 59,
   "id": "556b2e58",
   "metadata": {},
   "outputs": [
    {
     "data": {
      "text/plain": [
       "0       cat\n",
       "3       dog\n",
       "9      bird\n",
       "8    pandas\n",
       "3     snake\n",
       "dtype: object"
      ]
     },
     "execution_count": 59,
     "metadata": {},
     "output_type": "execute_result"
    }
   ],
   "source": [
    "animals"
   ]
  },
  {
   "cell_type": "code",
   "execution_count": 58,
   "id": "ca08b681",
   "metadata": {},
   "outputs": [
    {
     "data": {
      "text/plain": [
       "0     cat\n",
       "3     dog\n",
       "9    bird\n",
       "dtype: object"
      ]
     },
     "execution_count": 58,
     "metadata": {},
     "output_type": "execute_result"
    }
   ],
   "source": [
    "# : give upto give number value\n",
    "animals.iloc[:3]"
   ]
  },
  {
   "cell_type": "code",
   "execution_count": 60,
   "id": "e2ea8ca6",
   "metadata": {},
   "outputs": [
    {
     "data": {
      "text/html": [
       "<div>\n",
       "<style scoped>\n",
       "    .dataframe tbody tr th:only-of-type {\n",
       "        vertical-align: middle;\n",
       "    }\n",
       "\n",
       "    .dataframe tbody tr th {\n",
       "        vertical-align: top;\n",
       "    }\n",
       "\n",
       "    .dataframe thead th {\n",
       "        text-align: right;\n",
       "    }\n",
       "</style>\n",
       "<table border=\"1\" class=\"dataframe\">\n",
       "  <thead>\n",
       "    <tr style=\"text-align: right;\">\n",
       "      <th></th>\n",
       "      <th>Make</th>\n",
       "      <th>Colour</th>\n",
       "      <th>Odometer (KM)</th>\n",
       "      <th>Doors</th>\n",
       "      <th>Price</th>\n",
       "    </tr>\n",
       "  </thead>\n",
       "  <tbody>\n",
       "    <tr>\n",
       "      <th>0</th>\n",
       "      <td>Toyota</td>\n",
       "      <td>White</td>\n",
       "      <td>150043</td>\n",
       "      <td>4</td>\n",
       "      <td>$4,000.00</td>\n",
       "    </tr>\n",
       "    <tr>\n",
       "      <th>1</th>\n",
       "      <td>Honda</td>\n",
       "      <td>Red</td>\n",
       "      <td>87899</td>\n",
       "      <td>4</td>\n",
       "      <td>$5,000.00</td>\n",
       "    </tr>\n",
       "    <tr>\n",
       "      <th>2</th>\n",
       "      <td>Toyota</td>\n",
       "      <td>Blue</td>\n",
       "      <td>32549</td>\n",
       "      <td>3</td>\n",
       "      <td>$7,000.00</td>\n",
       "    </tr>\n",
       "    <tr>\n",
       "      <th>3</th>\n",
       "      <td>BMW</td>\n",
       "      <td>Black</td>\n",
       "      <td>11179</td>\n",
       "      <td>5</td>\n",
       "      <td>$22,000.00</td>\n",
       "    </tr>\n",
       "  </tbody>\n",
       "</table>\n",
       "</div>"
      ],
      "text/plain": [
       "     Make Colour  Odometer (KM)  Doors       Price\n",
       "0  Toyota  White         150043      4   $4,000.00\n",
       "1   Honda    Red          87899      4   $5,000.00\n",
       "2  Toyota   Blue          32549      3   $7,000.00\n",
       "3     BMW  Black          11179      5  $22,000.00"
      ]
     },
     "execution_count": 60,
     "metadata": {},
     "output_type": "execute_result"
    }
   ],
   "source": [
    "# : give upto give number value\n",
    "car_sales.loc[:3]"
   ]
  },
  {
   "cell_type": "code",
   "execution_count": 61,
   "id": "96557bf5",
   "metadata": {},
   "outputs": [
    {
     "data": {
      "text/html": [
       "<div>\n",
       "<style scoped>\n",
       "    .dataframe tbody tr th:only-of-type {\n",
       "        vertical-align: middle;\n",
       "    }\n",
       "\n",
       "    .dataframe tbody tr th {\n",
       "        vertical-align: top;\n",
       "    }\n",
       "\n",
       "    .dataframe thead th {\n",
       "        text-align: right;\n",
       "    }\n",
       "</style>\n",
       "<table border=\"1\" class=\"dataframe\">\n",
       "  <thead>\n",
       "    <tr style=\"text-align: right;\">\n",
       "      <th></th>\n",
       "      <th>Make</th>\n",
       "      <th>Colour</th>\n",
       "      <th>Odometer (KM)</th>\n",
       "      <th>Doors</th>\n",
       "      <th>Price</th>\n",
       "    </tr>\n",
       "  </thead>\n",
       "  <tbody>\n",
       "    <tr>\n",
       "      <th>0</th>\n",
       "      <td>Toyota</td>\n",
       "      <td>White</td>\n",
       "      <td>150043</td>\n",
       "      <td>4</td>\n",
       "      <td>$4,000.00</td>\n",
       "    </tr>\n",
       "    <tr>\n",
       "      <th>1</th>\n",
       "      <td>Honda</td>\n",
       "      <td>Red</td>\n",
       "      <td>87899</td>\n",
       "      <td>4</td>\n",
       "      <td>$5,000.00</td>\n",
       "    </tr>\n",
       "    <tr>\n",
       "      <th>2</th>\n",
       "      <td>Toyota</td>\n",
       "      <td>Blue</td>\n",
       "      <td>32549</td>\n",
       "      <td>3</td>\n",
       "      <td>$7,000.00</td>\n",
       "    </tr>\n",
       "    <tr>\n",
       "      <th>3</th>\n",
       "      <td>BMW</td>\n",
       "      <td>Black</td>\n",
       "      <td>11179</td>\n",
       "      <td>5</td>\n",
       "      <td>$22,000.00</td>\n",
       "    </tr>\n",
       "  </tbody>\n",
       "</table>\n",
       "</div>"
      ],
      "text/plain": [
       "     Make Colour  Odometer (KM)  Doors       Price\n",
       "0  Toyota  White         150043      4   $4,000.00\n",
       "1   Honda    Red          87899      4   $5,000.00\n",
       "2  Toyota   Blue          32549      3   $7,000.00\n",
       "3     BMW  Black          11179      5  $22,000.00"
      ]
     },
     "execution_count": 61,
     "metadata": {},
     "output_type": "execute_result"
    }
   ],
   "source": [
    "\n",
    "car_sales.head(4)"
   ]
  },
  {
   "cell_type": "code",
   "execution_count": 65,
   "id": "deb173f0",
   "metadata": {},
   "outputs": [
    {
     "data": {
      "text/plain": [
       "0    Toyota\n",
       "1     Honda\n",
       "2    Toyota\n",
       "3       BMW\n",
       "4    Nissan\n",
       "5    Toyota\n",
       "6     Honda\n",
       "7     Honda\n",
       "8    Toyota\n",
       "9    Nissan\n",
       "Name: Make, dtype: object"
      ]
     },
     "execution_count": 65,
     "metadata": {},
     "output_type": "execute_result"
    }
   ],
   "source": [
    "car_sales[\"Make\"]"
   ]
  },
  {
   "cell_type": "code",
   "execution_count": 67,
   "id": "93df1fd3",
   "metadata": {},
   "outputs": [
    {
     "data": {
      "text/plain": [
       "0    White\n",
       "1      Red\n",
       "2     Blue\n",
       "3    Black\n",
       "4    White\n",
       "5    Green\n",
       "6     Blue\n",
       "7     Blue\n",
       "8    White\n",
       "9    White\n",
       "Name: Colour, dtype: object"
      ]
     },
     "execution_count": 67,
     "metadata": {},
     "output_type": "execute_result"
    }
   ],
   "source": [
    "car_sales[\"Colour\"]"
   ]
  },
  {
   "cell_type": "code",
   "execution_count": 70,
   "id": "7fff9e37",
   "metadata": {},
   "outputs": [
    {
     "data": {
      "text/plain": [
       "0    Toyota\n",
       "1     Honda\n",
       "2    Toyota\n",
       "3       BMW\n",
       "4    Nissan\n",
       "5    Toyota\n",
       "6     Honda\n",
       "7     Honda\n",
       "8    Toyota\n",
       "9    Nissan\n",
       "Name: Make, dtype: object"
      ]
     },
     "execution_count": 70,
     "metadata": {},
     "output_type": "execute_result"
    }
   ],
   "source": [
    "# it does not work with name space like \tOdometer (KM)\n",
    "car_sales.Make"
   ]
  },
  {
   "cell_type": "code",
   "execution_count": 71,
   "id": "32dcd3ff",
   "metadata": {},
   "outputs": [
    {
     "data": {
      "text/plain": [
       "0    Toyota\n",
       "1     Honda\n",
       "2    Toyota\n",
       "3       BMW\n",
       "4    Nissan\n",
       "5    Toyota\n",
       "6     Honda\n",
       "7     Honda\n",
       "8    Toyota\n",
       "9    Nissan\n",
       "Name: Make, dtype: object"
      ]
     },
     "execution_count": 71,
     "metadata": {},
     "output_type": "execute_result"
    }
   ],
   "source": [
    "car_sales[\"Make\"]"
   ]
  },
  {
   "cell_type": "code",
   "execution_count": 73,
   "id": "2a22b367",
   "metadata": {},
   "outputs": [
    {
     "data": {
      "text/html": [
       "<div>\n",
       "<style scoped>\n",
       "    .dataframe tbody tr th:only-of-type {\n",
       "        vertical-align: middle;\n",
       "    }\n",
       "\n",
       "    .dataframe tbody tr th {\n",
       "        vertical-align: top;\n",
       "    }\n",
       "\n",
       "    .dataframe thead th {\n",
       "        text-align: right;\n",
       "    }\n",
       "</style>\n",
       "<table border=\"1\" class=\"dataframe\">\n",
       "  <thead>\n",
       "    <tr style=\"text-align: right;\">\n",
       "      <th></th>\n",
       "      <th>Make</th>\n",
       "      <th>Colour</th>\n",
       "      <th>Odometer (KM)</th>\n",
       "      <th>Doors</th>\n",
       "      <th>Price</th>\n",
       "    </tr>\n",
       "  </thead>\n",
       "  <tbody>\n",
       "    <tr>\n",
       "      <th>0</th>\n",
       "      <td>Toyota</td>\n",
       "      <td>White</td>\n",
       "      <td>150043</td>\n",
       "      <td>4</td>\n",
       "      <td>$4,000.00</td>\n",
       "    </tr>\n",
       "    <tr>\n",
       "      <th>2</th>\n",
       "      <td>Toyota</td>\n",
       "      <td>Blue</td>\n",
       "      <td>32549</td>\n",
       "      <td>3</td>\n",
       "      <td>$7,000.00</td>\n",
       "    </tr>\n",
       "    <tr>\n",
       "      <th>5</th>\n",
       "      <td>Toyota</td>\n",
       "      <td>Green</td>\n",
       "      <td>99213</td>\n",
       "      <td>4</td>\n",
       "      <td>$4,500.00</td>\n",
       "    </tr>\n",
       "    <tr>\n",
       "      <th>8</th>\n",
       "      <td>Toyota</td>\n",
       "      <td>White</td>\n",
       "      <td>60000</td>\n",
       "      <td>4</td>\n",
       "      <td>$6,250.00</td>\n",
       "    </tr>\n",
       "  </tbody>\n",
       "</table>\n",
       "</div>"
      ],
      "text/plain": [
       "     Make Colour  Odometer (KM)  Doors      Price\n",
       "0  Toyota  White         150043      4  $4,000.00\n",
       "2  Toyota   Blue          32549      3  $7,000.00\n",
       "5  Toyota  Green          99213      4  $4,500.00\n",
       "8  Toyota  White          60000      4  $6,250.00"
      ]
     },
     "execution_count": 73,
     "metadata": {},
     "output_type": "execute_result"
    }
   ],
   "source": [
    "car_sales[car_sales[\"Make\"] == \"Toyota\"]"
   ]
  },
  {
   "cell_type": "code",
   "execution_count": 75,
   "id": "9b6d6492",
   "metadata": {},
   "outputs": [
    {
     "data": {
      "text/html": [
       "<div>\n",
       "<style scoped>\n",
       "    .dataframe tbody tr th:only-of-type {\n",
       "        vertical-align: middle;\n",
       "    }\n",
       "\n",
       "    .dataframe tbody tr th {\n",
       "        vertical-align: top;\n",
       "    }\n",
       "\n",
       "    .dataframe thead th {\n",
       "        text-align: right;\n",
       "    }\n",
       "</style>\n",
       "<table border=\"1\" class=\"dataframe\">\n",
       "  <thead>\n",
       "    <tr style=\"text-align: right;\">\n",
       "      <th></th>\n",
       "      <th>Make</th>\n",
       "      <th>Colour</th>\n",
       "      <th>Odometer (KM)</th>\n",
       "      <th>Doors</th>\n",
       "      <th>Price</th>\n",
       "    </tr>\n",
       "  </thead>\n",
       "  <tbody>\n",
       "    <tr>\n",
       "      <th>0</th>\n",
       "      <td>Toyota</td>\n",
       "      <td>White</td>\n",
       "      <td>150043</td>\n",
       "      <td>4</td>\n",
       "      <td>$4,000.00</td>\n",
       "    </tr>\n",
       "    <tr>\n",
       "      <th>1</th>\n",
       "      <td>Honda</td>\n",
       "      <td>Red</td>\n",
       "      <td>87899</td>\n",
       "      <td>4</td>\n",
       "      <td>$5,000.00</td>\n",
       "    </tr>\n",
       "    <tr>\n",
       "      <th>2</th>\n",
       "      <td>Toyota</td>\n",
       "      <td>Blue</td>\n",
       "      <td>32549</td>\n",
       "      <td>3</td>\n",
       "      <td>$7,000.00</td>\n",
       "    </tr>\n",
       "    <tr>\n",
       "      <th>3</th>\n",
       "      <td>BMW</td>\n",
       "      <td>Black</td>\n",
       "      <td>11179</td>\n",
       "      <td>5</td>\n",
       "      <td>$22,000.00</td>\n",
       "    </tr>\n",
       "    <tr>\n",
       "      <th>4</th>\n",
       "      <td>Nissan</td>\n",
       "      <td>White</td>\n",
       "      <td>213095</td>\n",
       "      <td>4</td>\n",
       "      <td>$3,500.00</td>\n",
       "    </tr>\n",
       "    <tr>\n",
       "      <th>5</th>\n",
       "      <td>Toyota</td>\n",
       "      <td>Green</td>\n",
       "      <td>99213</td>\n",
       "      <td>4</td>\n",
       "      <td>$4,500.00</td>\n",
       "    </tr>\n",
       "    <tr>\n",
       "      <th>6</th>\n",
       "      <td>Honda</td>\n",
       "      <td>Blue</td>\n",
       "      <td>45698</td>\n",
       "      <td>4</td>\n",
       "      <td>$7,500.00</td>\n",
       "    </tr>\n",
       "    <tr>\n",
       "      <th>7</th>\n",
       "      <td>Honda</td>\n",
       "      <td>Blue</td>\n",
       "      <td>54738</td>\n",
       "      <td>4</td>\n",
       "      <td>$7,000.00</td>\n",
       "    </tr>\n",
       "    <tr>\n",
       "      <th>8</th>\n",
       "      <td>Toyota</td>\n",
       "      <td>White</td>\n",
       "      <td>60000</td>\n",
       "      <td>4</td>\n",
       "      <td>$6,250.00</td>\n",
       "    </tr>\n",
       "    <tr>\n",
       "      <th>9</th>\n",
       "      <td>Nissan</td>\n",
       "      <td>White</td>\n",
       "      <td>31600</td>\n",
       "      <td>4</td>\n",
       "      <td>$9,700.00</td>\n",
       "    </tr>\n",
       "  </tbody>\n",
       "</table>\n",
       "</div>"
      ],
      "text/plain": [
       "     Make Colour  Odometer (KM)  Doors       Price\n",
       "0  Toyota  White         150043      4   $4,000.00\n",
       "1   Honda    Red          87899      4   $5,000.00\n",
       "2  Toyota   Blue          32549      3   $7,000.00\n",
       "3     BMW  Black          11179      5  $22,000.00\n",
       "4  Nissan  White         213095      4   $3,500.00\n",
       "5  Toyota  Green          99213      4   $4,500.00\n",
       "6   Honda   Blue          45698      4   $7,500.00\n",
       "7   Honda   Blue          54738      4   $7,000.00\n",
       "8  Toyota  White          60000      4   $6,250.00\n",
       "9  Nissan  White          31600      4   $9,700.00"
      ]
     },
     "execution_count": 75,
     "metadata": {},
     "output_type": "execute_result"
    }
   ],
   "source": [
    "car_sales"
   ]
  },
  {
   "cell_type": "code",
   "execution_count": 74,
   "id": "fa9684cd",
   "metadata": {},
   "outputs": [
    {
     "data": {
      "text/html": [
       "<div>\n",
       "<style scoped>\n",
       "    .dataframe tbody tr th:only-of-type {\n",
       "        vertical-align: middle;\n",
       "    }\n",
       "\n",
       "    .dataframe tbody tr th {\n",
       "        vertical-align: top;\n",
       "    }\n",
       "\n",
       "    .dataframe thead th {\n",
       "        text-align: right;\n",
       "    }\n",
       "</style>\n",
       "<table border=\"1\" class=\"dataframe\">\n",
       "  <thead>\n",
       "    <tr style=\"text-align: right;\">\n",
       "      <th></th>\n",
       "      <th>Make</th>\n",
       "      <th>Colour</th>\n",
       "      <th>Odometer (KM)</th>\n",
       "      <th>Doors</th>\n",
       "      <th>Price</th>\n",
       "    </tr>\n",
       "  </thead>\n",
       "  <tbody>\n",
       "    <tr>\n",
       "      <th>0</th>\n",
       "      <td>Toyota</td>\n",
       "      <td>White</td>\n",
       "      <td>150043</td>\n",
       "      <td>4</td>\n",
       "      <td>$4,000.00</td>\n",
       "    </tr>\n",
       "    <tr>\n",
       "      <th>4</th>\n",
       "      <td>Nissan</td>\n",
       "      <td>White</td>\n",
       "      <td>213095</td>\n",
       "      <td>4</td>\n",
       "      <td>$3,500.00</td>\n",
       "    </tr>\n",
       "  </tbody>\n",
       "</table>\n",
       "</div>"
      ],
      "text/plain": [
       "     Make Colour  Odometer (KM)  Doors      Price\n",
       "0  Toyota  White         150043      4  $4,000.00\n",
       "4  Nissan  White         213095      4  $3,500.00"
      ]
     },
     "execution_count": 74,
     "metadata": {},
     "output_type": "execute_result"
    }
   ],
   "source": [
    "car_sales[car_sales[\"Odometer (KM)\"] > 100000]"
   ]
  },
  {
   "cell_type": "code",
   "execution_count": null,
   "id": "73f064a0",
   "metadata": {},
   "outputs": [],
   "source": []
  }
 ],
 "metadata": {
  "kernelspec": {
   "display_name": "Python 3 (ipykernel)",
   "language": "python",
   "name": "python3"
  },
  "language_info": {
   "codemirror_mode": {
    "name": "ipython",
    "version": 3
   },
   "file_extension": ".py",
   "mimetype": "text/x-python",
   "name": "python",
   "nbconvert_exporter": "python",
   "pygments_lexer": "ipython3",
   "version": "3.9.7"
  }
 },
 "nbformat": 4,
 "nbformat_minor": 5
}
